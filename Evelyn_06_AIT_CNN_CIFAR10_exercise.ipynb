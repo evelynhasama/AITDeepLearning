{
  "nbformat": 4,
  "nbformat_minor": 0,
  "metadata": {
    "anaconda-cloud": {},
    "kernelspec": {
      "display_name": "Python 3",
      "language": "python",
      "name": "python3"
    },
    "language_info": {
      "codemirror_mode": {
        "name": "ipython",
        "version": 3
      },
      "file_extension": ".py",
      "mimetype": "text/x-python",
      "name": "python",
      "nbconvert_exporter": "python",
      "pygments_lexer": "ipython3",
      "version": "3.6.6"
    },
    "colab": {
      "provenance": [],
      "include_colab_link": true
    },
    "accelerator": "GPU",
    "gpuClass": "standard"
  },
  "cells": [
    {
      "cell_type": "markdown",
      "metadata": {
        "id": "view-in-github",
        "colab_type": "text"
      },
      "source": [
        "<a href=\"https://colab.research.google.com/github/evelynhasama/AITDeepLearning/blob/main/Evelyn_06_AIT_CNN_CIFAR10_exercise.ipynb\" target=\"_parent\"><img src=\"https://colab.research.google.com/assets/colab-badge.svg\" alt=\"Open In Colab\"/></a>"
      ]
    },
    {
      "cell_type": "markdown",
      "metadata": {
        "id": "cW-EyI5Lxpqi"
      },
      "source": [
        "# Copyright\n",
        "\n",
        "<PRE>\n",
        "Copyright (c) 2023 Bálint Gyires-Tóth - All Rights Reserved\n",
        "You may use and modify this code for research and development purpuses.\n",
        "Using this code for educational purposes (self-paced or instructor led) without the permission of the author is prohibited.\n",
        "</PRE>"
      ]
    },
    {
      "cell_type": "markdown",
      "source": [
        "# Convolutional Neural Network exercise\n",
        "\n",
        "In this notebook, you will build a convolutional neural network, which offers superior results over the previous MLP solution. Additionally, you will perform a more detailed evaluation.  "
      ],
      "metadata": {
        "id": "3EX4cCa4WKJu"
      }
    },
    {
      "cell_type": "code",
      "source": [
        "# imports \n",
        "from tensorflow.keras.datasets import cifar10\n",
        "from tensorflow.keras.utils import to_categorical\n",
        "import numpy as np\n",
        "import matplotlib.pyplot as plt\n",
        "from tensorflow.keras.models import Sequential\n",
        "from tensorflow.keras.layers import Dense, Conv2D, MaxPool2D, Flatten, Dropout, BatchNormalization\n",
        "from tensorflow.keras.initializers import HeNormal\n",
        "from tensorflow.keras.callbacks import EarlyStopping"
      ],
      "metadata": {
        "id": "GdCMhy4HA2qd"
      },
      "execution_count": 24,
      "outputs": []
    },
    {
      "cell_type": "markdown",
      "source": [
        "# 1. Data\n",
        "The dataset we will use is the well-known CIFAR10 (Canadian Institute For Advanced Research). Explore the details on the Keras website first: https://keras.io/api/datasets/cifar10/\n",
        "\n",
        "There isn't much difference between the data preprocessing part and the one we did before. The only difference is that we don't have to reshape images into vectors, but we are working with a 4 dimensional data structure, where the dimensions are: batch, X, Y, and color channels. \n",
        "\n",
        "In the event that anything is not clear regarding the data preparation part, please check the previous CIFAR10 notebook."
      ],
      "metadata": {
        "id": "yY9fztIeWIKt"
      }
    },
    {
      "cell_type": "code",
      "source": [
        "(X_train, Y_train), (X_test, Y_test) = cifar10.load_data()"
      ],
      "metadata": {
        "id": "bez7q0eiWQCK"
      },
      "execution_count": 25,
      "outputs": []
    },
    {
      "cell_type": "code",
      "source": [
        "# it is in int8 format, the neural network requires float32\n",
        "X_train = X_train.astype(\"float32\")\n",
        "X_test = X_test.astype(\"float32\")"
      ],
      "metadata": {
        "id": "vukOcBM0XzSj"
      },
      "execution_count": 26,
      "outputs": []
    },
    {
      "cell_type": "code",
      "source": [
        "train_ratio  = 0.8\n",
        "train_length = X_train.shape[0]\n",
        "train_split  = int(train_ratio*train_length)\n",
        "X_valid, Y_valid = X_train[train_split:], Y_train[train_split:]\n",
        "X_train, Y_train = X_train[:train_split], Y_train[:train_split]"
      ],
      "metadata": {
        "id": "mRwuWxxIxLgN"
      },
      "execution_count": 27,
      "outputs": []
    },
    {
      "cell_type": "code",
      "source": [
        "mean = X_train.mean(axis=0)\n",
        "std  = X_train.std(axis=0)\n",
        "\n",
        "X_train = (X_train-mean)/std\n",
        "X_valid = (X_valid-mean)/std\n",
        "X_test  = (X_test-mean)/std"
      ],
      "metadata": {
        "id": "2ESLP1EIyB2J"
      },
      "execution_count": 28,
      "outputs": []
    },
    {
      "cell_type": "code",
      "source": [
        "nb_classes = len(np.unique(Y_train))\n",
        "Y_train = to_categorical(Y_train, nb_classes)\n",
        "Y_valid = to_categorical(Y_valid, nb_classes)\n",
        "Y_test  = to_categorical(Y_test, nb_classes)"
      ],
      "metadata": {
        "id": "xwZ4OJ6I8lba"
      },
      "execution_count": 29,
      "outputs": []
    },
    {
      "cell_type": "code",
      "source": [
        "print(\"Shapes of the training, validation and test input data:\", X_train.shape, X_valid.shape, X_test.shape)\n",
        "print(\"Shapes of the training, validation and test output data:\", Y_train.shape, Y_valid.shape, Y_test.shape)\n",
        "print(\"Mean values of the training, validation and test input data:\", X_train.mean(), X_valid.mean(), X_test.mean())\n",
        "print(\"Standard deviation of the training, validation and test input data:\", X_train.std(), X_valid.std(), X_test.std())"
      ],
      "metadata": {
        "id": "O_jdJVcvX0vi",
        "colab": {
          "base_uri": "https://localhost:8080/"
        },
        "outputId": "9de0142e-b3b2-4b58-eb4f-d8dc8a1d3b3c"
      },
      "execution_count": 30,
      "outputs": [
        {
          "output_type": "stream",
          "name": "stdout",
          "text": [
            "Shapes of the training, validation and test input data: (40000, 32, 32, 3) (10000, 32, 32, 3) (10000, 32, 32, 3)\n",
            "Shapes of the training, validation and test output data: (40000, 10) (10000, 10) (10000, 10)\n",
            "Mean values of the training, validation and test input data: 2.2788842e-09 0.0023437198 0.013331206\n",
            "Standard deviation of the training, validation and test input data: 1.0000023 0.9965626 0.99783075\n"
          ]
        }
      ]
    },
    {
      "cell_type": "markdown",
      "metadata": {
        "id": "cJ14oyZExpqj"
      },
      "source": [
        "# 2. Exercise: training"
      ]
    },
    {
      "cell_type": "markdown",
      "source": [
        "Create and train a convolutional neural network with the following requirements:\n",
        "* apply early stopping with patience=5 and monitor the validation accuracy, don't forget to load back the best weights after early stopping\n",
        "* the number of trainable parameters is lower than 200.000\n",
        "* the validation accuracy must be higher than 72%\n",
        "\n",
        "Hints:\n",
        "* you can always inspect the number of trainable parameters per layer with model.summary()\n",
        "* usually the most trainable parameters are between the last convolutional layer and the next dense layer -- so you should have a reasonable output size at the last convolutional layer\n",
        "* regularization helps (e.g. DropOut and/or BatchNormalization)\n",
        "* use the right activation function at the output layer and the corresponding loss function\n",
        "* for the chosen activation functions, please use the appropriate initialization method\n",
        "* you can match the dimension of the last conv/pooling layer to the next dense layer with e.g. Flatten()\n",
        "* ADAM optimizer is a reasonable choice \n",
        "* don't forget to turn on GPU support in Colab, otherwise, it would be quite slow to train the networks\n",
        "\n"
      ],
      "metadata": {
        "id": "j1tGVPdD-pp3"
      }
    },
    {
      "cell_type": "code",
      "source": [
        "es = EarlyStopping(\n",
        "    monitor='val_accuracy',\n",
        "    patience=5,\n",
        "    verbose=0,\n",
        "    mode='auto',\n",
        "    baseline=None,\n",
        "    restore_best_weights=True,\n",
        "    start_from_epoch=0\n",
        ")"
      ],
      "metadata": {
        "id": "5dBQxJHIHrbd"
      },
      "execution_count": 31,
      "outputs": []
    },
    {
      "cell_type": "code",
      "source": [
        "# model definition\n",
        "model = Sequential()\n",
        "model.add(Conv2D(32, (3,3), activation='relu', kernel_initializer='he_uniform', padding='same', input_shape = X_train[0].shape))\n",
        "model.add(MaxPool2D((2, 2)))\n",
        "model.add(Conv2D(64, (3, 3), activation='relu', kernel_initializer='he_uniform', padding='same'))\n",
        "model.add(MaxPool2D((2,2)))\n",
        "model.add(Conv2D(128, (3, 3), activation='relu', kernel_initializer='he_uniform', padding='same'))\n",
        "model.add(MaxPool2D((2,2)))\n",
        "model.add(Dropout(0.5))\n",
        "model.add(Flatten())\n",
        "model.add(Dense(32, activation='relu', kernel_initializer='he_uniform'))\n",
        "model.add(Dense(nb_classes, activation='softmax'))\n",
        "\n",
        "# loss function and optimizer\n",
        "model.compile(loss='categorical_crossentropy', optimizer='adam', metrics = [\"accuracy\"])"
      ],
      "metadata": {
        "id": "PuxHOqLt-3Nd"
      },
      "execution_count": 32,
      "outputs": []
    },
    {
      "cell_type": "code",
      "source": [
        "model.summary()\n"
      ],
      "metadata": {
        "id": "5eomQw8uE9Ix",
        "colab": {
          "base_uri": "https://localhost:8080/"
        },
        "outputId": "a8816984-4d88-4601-f431-0153d25c50f6"
      },
      "execution_count": 33,
      "outputs": [
        {
          "output_type": "stream",
          "name": "stdout",
          "text": [
            "Model: \"sequential_5\"\n",
            "_________________________________________________________________\n",
            " Layer (type)                Output Shape              Param #   \n",
            "=================================================================\n",
            " conv2d_15 (Conv2D)          (None, 32, 32, 32)        896       \n",
            "                                                                 \n",
            " max_pooling2d_15 (MaxPoolin  (None, 16, 16, 32)       0         \n",
            " g2D)                                                            \n",
            "                                                                 \n",
            " conv2d_16 (Conv2D)          (None, 16, 16, 64)        18496     \n",
            "                                                                 \n",
            " max_pooling2d_16 (MaxPoolin  (None, 8, 8, 64)         0         \n",
            " g2D)                                                            \n",
            "                                                                 \n",
            " conv2d_17 (Conv2D)          (None, 8, 8, 128)         73856     \n",
            "                                                                 \n",
            " max_pooling2d_17 (MaxPoolin  (None, 4, 4, 128)        0         \n",
            " g2D)                                                            \n",
            "                                                                 \n",
            " dropout_5 (Dropout)         (None, 4, 4, 128)         0         \n",
            "                                                                 \n",
            " flatten_5 (Flatten)         (None, 2048)              0         \n",
            "                                                                 \n",
            " dense_10 (Dense)            (None, 32)                65568     \n",
            "                                                                 \n",
            " dense_11 (Dense)            (None, 10)                330       \n",
            "                                                                 \n",
            "=================================================================\n",
            "Total params: 159,146\n",
            "Trainable params: 159,146\n",
            "Non-trainable params: 0\n",
            "_________________________________________________________________\n"
          ]
        }
      ]
    },
    {
      "cell_type": "markdown",
      "source": [
        "Please, check the number of trainable paramers:"
      ],
      "metadata": {
        "id": "8tIbIIeTEI41"
      }
    },
    {
      "cell_type": "code",
      "source": [
        "print(\"#trainable parameters:\",model.count_params())"
      ],
      "metadata": {
        "id": "xdBAG7EJETlX",
        "colab": {
          "base_uri": "https://localhost:8080/"
        },
        "outputId": "a2647a79-6bf9-4788-b556-ad5ff8b3daf5"
      },
      "execution_count": 34,
      "outputs": [
        {
          "output_type": "stream",
          "name": "stdout",
          "text": [
            "#trainable parameters: 159146\n"
          ]
        }
      ]
    },
    {
      "cell_type": "code",
      "source": [
        "# training\n",
        "network_history = model.fit(X_train, Y_train, validation_data=(X_valid,Y_valid), batch_size=128, epochs=1000, verbose=1, callbacks=[es])"
      ],
      "metadata": {
        "id": "u8tFNCNVHyt9",
        "colab": {
          "base_uri": "https://localhost:8080/"
        },
        "outputId": "d2292690-2723-4be5-ba30-a74fb007c923"
      },
      "execution_count": 35,
      "outputs": [
        {
          "output_type": "stream",
          "name": "stdout",
          "text": [
            "Epoch 1/1000\n",
            "313/313 [==============================] - 5s 10ms/step - loss: 1.7759 - accuracy: 0.3505 - val_loss: 1.3530 - val_accuracy: 0.5232\n",
            "Epoch 2/1000\n",
            "313/313 [==============================] - 3s 8ms/step - loss: 1.2776 - accuracy: 0.5388 - val_loss: 1.1355 - val_accuracy: 0.6012\n",
            "Epoch 3/1000\n",
            "313/313 [==============================] - 3s 10ms/step - loss: 1.0913 - accuracy: 0.6126 - val_loss: 1.0054 - val_accuracy: 0.6502\n",
            "Epoch 4/1000\n",
            "313/313 [==============================] - 3s 9ms/step - loss: 0.9755 - accuracy: 0.6578 - val_loss: 0.9135 - val_accuracy: 0.6829\n",
            "Epoch 5/1000\n",
            "313/313 [==============================] - 3s 9ms/step - loss: 0.8918 - accuracy: 0.6866 - val_loss: 0.8476 - val_accuracy: 0.7098\n",
            "Epoch 6/1000\n",
            "313/313 [==============================] - 3s 8ms/step - loss: 0.8435 - accuracy: 0.7010 - val_loss: 0.8298 - val_accuracy: 0.7086\n",
            "Epoch 7/1000\n",
            "313/313 [==============================] - 3s 10ms/step - loss: 0.7929 - accuracy: 0.7173 - val_loss: 0.7932 - val_accuracy: 0.7232\n",
            "Epoch 8/1000\n",
            "313/313 [==============================] - 3s 9ms/step - loss: 0.7386 - accuracy: 0.7398 - val_loss: 0.7790 - val_accuracy: 0.7256\n",
            "Epoch 9/1000\n",
            "313/313 [==============================] - 3s 9ms/step - loss: 0.7076 - accuracy: 0.7499 - val_loss: 0.7323 - val_accuracy: 0.7476\n",
            "Epoch 10/1000\n",
            "313/313 [==============================] - 3s 9ms/step - loss: 0.6782 - accuracy: 0.7609 - val_loss: 0.7363 - val_accuracy: 0.7435\n",
            "Epoch 11/1000\n",
            "313/313 [==============================] - 3s 10ms/step - loss: 0.6430 - accuracy: 0.7749 - val_loss: 0.7209 - val_accuracy: 0.7514\n",
            "Epoch 12/1000\n",
            "313/313 [==============================] - 3s 9ms/step - loss: 0.6124 - accuracy: 0.7842 - val_loss: 0.7051 - val_accuracy: 0.7579\n",
            "Epoch 13/1000\n",
            "313/313 [==============================] - 3s 9ms/step - loss: 0.5849 - accuracy: 0.7912 - val_loss: 0.7137 - val_accuracy: 0.7543\n",
            "Epoch 14/1000\n",
            "313/313 [==============================] - 3s 9ms/step - loss: 0.5690 - accuracy: 0.7959 - val_loss: 0.6957 - val_accuracy: 0.7630\n",
            "Epoch 15/1000\n",
            "313/313 [==============================] - 3s 9ms/step - loss: 0.5479 - accuracy: 0.8050 - val_loss: 0.6830 - val_accuracy: 0.7692\n",
            "Epoch 16/1000\n",
            "313/313 [==============================] - 3s 9ms/step - loss: 0.5255 - accuracy: 0.8122 - val_loss: 0.7207 - val_accuracy: 0.7560\n",
            "Epoch 17/1000\n",
            "313/313 [==============================] - 3s 8ms/step - loss: 0.5086 - accuracy: 0.8204 - val_loss: 0.7082 - val_accuracy: 0.7627\n",
            "Epoch 18/1000\n",
            "313/313 [==============================] - 3s 8ms/step - loss: 0.4918 - accuracy: 0.8229 - val_loss: 0.7062 - val_accuracy: 0.7604\n",
            "Epoch 19/1000\n",
            "313/313 [==============================] - 3s 9ms/step - loss: 0.4829 - accuracy: 0.8289 - val_loss: 0.6734 - val_accuracy: 0.7735\n",
            "Epoch 20/1000\n",
            "313/313 [==============================] - 3s 10ms/step - loss: 0.4701 - accuracy: 0.8292 - val_loss: 0.7018 - val_accuracy: 0.7702\n",
            "Epoch 21/1000\n",
            "313/313 [==============================] - 3s 9ms/step - loss: 0.4563 - accuracy: 0.8374 - val_loss: 0.6943 - val_accuracy: 0.7701\n",
            "Epoch 22/1000\n",
            "313/313 [==============================] - 3s 8ms/step - loss: 0.4395 - accuracy: 0.8413 - val_loss: 0.6916 - val_accuracy: 0.7750\n",
            "Epoch 23/1000\n",
            "313/313 [==============================] - 3s 9ms/step - loss: 0.4350 - accuracy: 0.8442 - val_loss: 0.6793 - val_accuracy: 0.7731\n",
            "Epoch 24/1000\n",
            "313/313 [==============================] - 3s 9ms/step - loss: 0.4115 - accuracy: 0.8525 - val_loss: 0.6975 - val_accuracy: 0.7715\n",
            "Epoch 25/1000\n",
            "313/313 [==============================] - 3s 9ms/step - loss: 0.3999 - accuracy: 0.8582 - val_loss: 0.7147 - val_accuracy: 0.7771\n",
            "Epoch 26/1000\n",
            "313/313 [==============================] - 3s 8ms/step - loss: 0.3945 - accuracy: 0.8590 - val_loss: 0.7057 - val_accuracy: 0.7733\n",
            "Epoch 27/1000\n",
            "313/313 [==============================] - 3s 9ms/step - loss: 0.3860 - accuracy: 0.8604 - val_loss: 0.7006 - val_accuracy: 0.7761\n",
            "Epoch 28/1000\n",
            "313/313 [==============================] - 3s 8ms/step - loss: 0.3838 - accuracy: 0.8612 - val_loss: 0.7213 - val_accuracy: 0.7742\n",
            "Epoch 29/1000\n",
            "313/313 [==============================] - 3s 10ms/step - loss: 0.3697 - accuracy: 0.8648 - val_loss: 0.7047 - val_accuracy: 0.7782\n",
            "Epoch 30/1000\n",
            "313/313 [==============================] - 3s 9ms/step - loss: 0.3623 - accuracy: 0.8699 - val_loss: 0.7311 - val_accuracy: 0.7736\n",
            "Epoch 31/1000\n",
            "313/313 [==============================] - 3s 9ms/step - loss: 0.3567 - accuracy: 0.8727 - val_loss: 0.7062 - val_accuracy: 0.7817\n",
            "Epoch 32/1000\n",
            "313/313 [==============================] - 3s 9ms/step - loss: 0.3456 - accuracy: 0.8756 - val_loss: 0.7161 - val_accuracy: 0.7762\n",
            "Epoch 33/1000\n",
            "313/313 [==============================] - 3s 9ms/step - loss: 0.3402 - accuracy: 0.8766 - val_loss: 0.7379 - val_accuracy: 0.7758\n",
            "Epoch 34/1000\n",
            "313/313 [==============================] - 3s 9ms/step - loss: 0.3382 - accuracy: 0.8785 - val_loss: 0.7304 - val_accuracy: 0.7824\n",
            "Epoch 35/1000\n",
            "313/313 [==============================] - 3s 9ms/step - loss: 0.3222 - accuracy: 0.8838 - val_loss: 0.7608 - val_accuracy: 0.7772\n",
            "Epoch 36/1000\n",
            "313/313 [==============================] - 3s 9ms/step - loss: 0.3161 - accuracy: 0.8877 - val_loss: 0.7314 - val_accuracy: 0.7809\n",
            "Epoch 37/1000\n",
            "313/313 [==============================] - 3s 10ms/step - loss: 0.3175 - accuracy: 0.8866 - val_loss: 0.7447 - val_accuracy: 0.7823\n",
            "Epoch 38/1000\n",
            "313/313 [==============================] - 3s 9ms/step - loss: 0.3098 - accuracy: 0.8879 - val_loss: 0.7471 - val_accuracy: 0.7778\n",
            "Epoch 39/1000\n",
            "313/313 [==============================] - 3s 9ms/step - loss: 0.3027 - accuracy: 0.8921 - val_loss: 0.7506 - val_accuracy: 0.7780\n"
          ]
        }
      ]
    },
    {
      "cell_type": "markdown",
      "source": [
        "# 3. Exercise: evaluation on test data\n",
        "You will evaluate the classification of the test data using the common metrics and the confusion matrix in this section. \n",
        "\n",
        "\n",
        "As a first stes, let's run the predictions and convert the predicted softmax outputs to dense labels. The one-hot encoded labels are also converted back to dense labels, as they are required for the evaluation functions."
      ],
      "metadata": {
        "id": "2FtKp-a2-A9m"
      }
    },
    {
      "cell_type": "code",
      "source": [
        "probas = model.predict(X_test)\n",
        "preds  = np.argmax(probas,axis=1)\n",
        "Y_test_dense = np.argmax(Y_test, axis=1) # get the original dense labels of the test data"
      ],
      "metadata": {
        "id": "EcWAqwlDMq3y",
        "colab": {
          "base_uri": "https://localhost:8080/"
        },
        "outputId": "c856baf6-94fa-4b52-be37-16fcf717f373"
      },
      "execution_count": 36,
      "outputs": [
        {
          "output_type": "stream",
          "name": "stdout",
          "text": [
            "313/313 [==============================] - 1s 2ms/step\n"
          ]
        }
      ]
    },
    {
      "cell_type": "markdown",
      "source": [
        "## 3.1. Exercise: Metrics\n",
        "please review the common classification metrics (accuracy, precision, recall, F1) for the complete model (not per class). \n",
        "\n",
        "Hints:\n",
        "* use macro averaging\n",
        "* you have to import the right functions from [sklearn.metrics](https://scikit-learn.org/stable/modules/model_evaluation.html)\n"
      ],
      "metadata": {
        "id": "RWJ-PH_iMs9K"
      }
    },
    {
      "cell_type": "code",
      "source": [
        "from sklearn.metrics import accuracy_score, precision_score, recall_score, f1_score"
      ],
      "metadata": {
        "id": "5sKm5zHSMZ_x"
      },
      "execution_count": 37,
      "outputs": []
    },
    {
      "cell_type": "code",
      "source": [
        "print(\"Accuracy:\", accuracy_score(preds, Y_test_dense))\n",
        "print(\"Precision:\",precision_score(preds, Y_test_dense, average='macro'))\n",
        "print(\"Recall:\",recall_score(preds, Y_test_dense, average='macro'))\n",
        "print(\"F1:\",f1_score(preds, Y_test_dense, average='macro'))"
      ],
      "metadata": {
        "id": "I3_9wgDREUna",
        "colab": {
          "base_uri": "https://localhost:8080/"
        },
        "outputId": "172e445b-984a-4445-8f19-1f3471394d7d"
      },
      "execution_count": 38,
      "outputs": [
        {
          "output_type": "stream",
          "name": "stdout",
          "text": [
            "Accuracy: 0.7746\n",
            "Precision: 0.7746\n",
            "Recall: 0.7754757856189436\n",
            "F1: 0.7742229983480656\n"
          ]
        }
      ]
    },
    {
      "cell_type": "markdown",
      "source": [
        "\n",
        "## 3.2. Exercise: Confusion matrix\n",
        "Calculate the confusion matrix and display the results in a heatmap (with decimal values).\n",
        "\n",
        "Hints:\n",
        "* you have to do the imports this time too, e.g. from [sklearn.metrics](https://scikit-learn.org/stable/modules/model_evaluation.html) and the [heatmap function](https://seaborn.pydata.org/generated/seaborn.heatmap.html) of [seaborn](https://seaborn.pydata.org/)\n",
        "* for displaying the decimal values, you have to turn annot=True and define fmt='d' in the heatmap function of seaborn"
      ],
      "metadata": {
        "id": "ECHguBFtGL7f"
      }
    },
    {
      "cell_type": "code",
      "source": [
        "from sklearn.metrics import confusion_matrix\n",
        "import seaborn as sns"
      ],
      "metadata": {
        "id": "SIi2VzMBO3yD"
      },
      "execution_count": 39,
      "outputs": []
    },
    {
      "cell_type": "code",
      "metadata": {
        "id": "cdqODx92Svw7",
        "colab": {
          "base_uri": "https://localhost:8080/",
          "height": 392
        },
        "outputId": "b43a808c-d12b-46be-d4b2-9292bf1d8b69"
      },
      "source": [
        "conf = confusion_matrix(Y_test_dense, preds)\n",
        "plt.figure(figsize=(7,6))\n",
        "sns.heatmap(conf, annot=True, fmt='d')"
      ],
      "execution_count": 40,
      "outputs": [
        {
          "output_type": "execute_result",
          "data": {
            "text/plain": [
              "<Axes: >"
            ]
          },
          "metadata": {},
          "execution_count": 40
        },
        {
          "output_type": "display_data",
          "data": {
            "text/plain": [
              "<Figure size 504x432 with 2 Axes>"
            ],
            "image/png": "[encoded data removed]"
          },
          "metadata": {
            "needs_background": "light"
          }
        }
      ]
    }
  ]
}