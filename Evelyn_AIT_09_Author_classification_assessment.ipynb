{
  "nbformat": 4,
  "nbformat_minor": 0,
  "metadata": {
    "kernelspec": {
      "display_name": "Python 3",
      "language": "python",
      "name": "python3"
    },
    "language_info": {
      "codemirror_mode": {
        "name": "ipython",
        "version": 3
      },
      "file_extension": ".py",
      "mimetype": "text/x-python",
      "name": "python",
      "nbconvert_exporter": "python",
      "pygments_lexer": "ipython3",
      "version": "3.6.6"
    },
    "colab": {
      "provenance": [],
      "include_colab_link": true
    }
  },
  "cells": [
    {
      "cell_type": "markdown",
      "metadata": {
        "id": "view-in-github",
        "colab_type": "text"
      },
      "source": [
        "<a href=\"https://colab.research.google.com/github/evelynhasama/AITDeepLearning/blob/main/Evelyn_AIT_09_Author_classification_assessment.ipynb\" target=\"_parent\"><img src=\"https://colab.research.google.com/assets/colab-badge.svg\" alt=\"Open In Colab\"/></a>"
      ]
    },
    {
      "cell_type": "markdown",
      "metadata": {
        "id": "_jiGtJu6u9ml"
      },
      "source": [
        "# Copyright\n",
        "\n",
        "<PRE>\n",
        "Copyright (c) 2021 Bálint Gyires-Tóth - All Rights Reserved\n",
        "You may use and modify this code for research and development purpuses.\n",
        "Use this code for educational purposes (self-paced or instructor led) without the permission of the author is prohibited.\n",
        "</PRE>"
      ]
    },
    {
      "cell_type": "markdown",
      "metadata": {
        "id": "oXyFC44jV-PP"
      },
      "source": [
        "# Author classification\n",
        "The task is to train a 1D CNN or an LSTM that is able to  classify text from two authors. The final model should be able to tell about a text with a given length (e.g. 60 characters) who wrote it. \n",
        "\n",
        "Please write the codes according to the following parts:"
      ]
    },
    {
      "cell_type": "markdown",
      "metadata": {
        "id": "jCnLoeGrHXsp"
      },
      "source": [
        "## Python module imports\n",
        "Import all Python modules that you would need during the Assignment."
      ]
    },
    {
      "cell_type": "code",
      "metadata": {
        "id": "7itbFGt3HXVT"
      },
      "source": [
        "from tensorflow.keras.models import Sequential\n",
        "from tensorflow.keras.layers import Dense, Activation, Dropout\n",
        "from tensorflow.keras.layers import LSTM\n",
        "from tensorflow.keras.optimizers import RMSprop\n",
        "from urllib.request import urlretrieve\n",
        "import numpy as np\n",
        "import random\n",
        "import sys\n",
        "import re, cgi\n",
        "import matplotlib.pyplot as plt\n",
        "from sklearn.model_selection import train_test_split\n",
        "from tensorflow.keras.callbacks import EarlyStopping"
      ],
      "execution_count": 43,
      "outputs": []
    },
    {
      "cell_type": "markdown",
      "metadata": {
        "id": "Hr617tEpHd8R"
      },
      "source": [
        "## Data acquisition\n",
        "Seek a possible dataset, you can use any source, e.g.\n",
        "* http://www.gutenberg.org/\n",
        "* https://www.kaggle.com/datasets\n",
        "* https://paperswithcode.com/datasets\n",
        "* if you would like to learn Hungarian, than e.g. https://mek.oszk.hu/\n",
        "\n",
        "You can download the text by hand (e.g. by copy-pasting some parts into txt files) or with Python. "
      ]
    },
    {
      "cell_type": "code",
      "metadata": {
        "id": "NgkdQxHqHdZB"
      },
      "source": [
        "url_great_gatsby=\"https://www.gutenberg.org/cache/epub/64317/pg64317.txt\"\n",
        "urlretrieve(url_great_gatsby, 'great_gatsby.txt')\n",
        "great_gatsby = open(\"great_gatsby.txt\", encoding='utf-8').read().lower()\n",
        "\n",
        "url_huck_finn=\"https://www.gutenberg.org/cache/epub/76/pg76.txt\"\n",
        "urlretrieve(url_huck_finn, 'huck_finn.txt')\n",
        "huck_finn = open(\"huck_finn.txt\", encoding='utf-8').read().lower()"
      ],
      "execution_count": 2,
      "outputs": []
    },
    {
      "cell_type": "markdown",
      "source": [
        "## Data analysis\n",
        "Count the number of characters from both authors and display them on a plot (e.g. Seaborn's countplot)."
      ],
      "metadata": {
        "id": "U9Pmq91t3SRD"
      }
    },
    {
      "cell_type": "code",
      "source": [
        "print('Num characters in The Great Gatsby:', len(great_gatsby))\n",
        "print('Num characters in Adventures of Huckleberry Finn:', len(huck_finn))"
      ],
      "metadata": {
        "id": "uRqGdn4F3Spk",
        "colab": {
          "base_uri": "https://localhost:8080/"
        },
        "outputId": "33a446e2-8063-486c-f777-c28f453cb817"
      },
      "execution_count": 4,
      "outputs": [
        {
          "output_type": "stream",
          "name": "stdout",
          "text": [
            "Num characters in The Great Gatsby: 289901\n",
            "Num characters in Adventures of Huckleberry Finn: 590189\n"
          ]
        }
      ]
    },
    {
      "cell_type": "code",
      "source": [
        "data = {\"great_gatsby\" : len(great_gatsby), \"huck_finn\" : len(huck_finn)}\n",
        "plt.bar(data.keys(), data.values())"
      ],
      "metadata": {
        "colab": {
          "base_uri": "https://localhost:8080/",
          "height": 448
        },
        "id": "aHWaRXi4J5kU",
        "outputId": "fbd17ce4-78ee-4e9f-f404-76af0c61b590"
      },
      "execution_count": 7,
      "outputs": [
        {
          "output_type": "execute_result",
          "data": {
            "text/plain": [
              "<BarContainer object of 2 artists>"
            ]
          },
          "metadata": {},
          "execution_count": 7
        },
        {
          "output_type": "display_data",
          "data": {
            "text/plain": [
              "<Figure size 640x480 with 1 Axes>"
            ],
            "image/png": "[encoded data removed]"
          },
          "metadata": {}
        }
      ]
    },
    {
      "cell_type": "markdown",
      "metadata": {
        "id": "cHyE_ndGIblJ"
      },
      "source": [
        "## Data loading, labeling and preprocessing\n",
        "Load the data and convert the characters into one-hot encodings. Then load the data into a 3D NumPy array, with a shape of\n",
        "\n",
        "* (batch, sequence_length, alphabet_length)\n",
        "\n",
        "where sequence_length=60, and alphabet_length equals to the number of unique characters in both datasets. The sequences should be cut out from the complete dataset by sliding window. You should add 0 and 1 labels to the sequences, according to the author. \n",
        "\n",
        "Later you may change sequence_length to achieve better results!"
      ]
    },
    {
      "cell_type": "code",
      "metadata": {
        "id": "arooXt0WIb6x",
        "colab": {
          "base_uri": "https://localhost:8080/"
        },
        "outputId": "99a302c5-4f6d-4f7f-ec07-5209c7ecf41a"
      },
      "source": [
        "gg_chars = sorted(list(set(great_gatsby)))\n",
        "hf_chars = sorted(list(set(huck_finn)))\n",
        "print(\"Unique chars in The Great Gatsby:\", len(gg_chars))\n",
        "print(\"Unique chars in Adventures of Huckleberry Finn:\", len(hf_chars))"
      ],
      "execution_count": 11,
      "outputs": [
        {
          "output_type": "stream",
          "name": "stdout",
          "text": [
            "Unique chars in The Great Gatsby: 69\n",
            "Unique chars in Adventures of Huckleberry Finn: 64\n"
          ]
        }
      ]
    },
    {
      "cell_type": "code",
      "source": [
        "all_chars = list(set(hf_chars + gg_chars))\n",
        "all_char_indices = dict((c, i) for i, c in enumerate(all_chars))\n",
        "print(\"Unique chars:\", len(all_chars))\n",
        "\n",
        "print (\"Indices to char dictionary:\", gg_indices_char)"
      ],
      "metadata": {
        "colab": {
          "base_uri": "https://localhost:8080/"
        },
        "id": "75Z-RnPZKu1T",
        "outputId": "ca11b0c3-6d74-4716-cdeb-a039c5b4a2a0"
      },
      "execution_count": 68,
      "outputs": [
        {
          "output_type": "stream",
          "name": "stdout",
          "text": [
            "Unique chars: 72\n",
            "Indices to char dictionary: {0: '\\t', 1: '\\n', 2: ' ', 3: '!', 4: '\"', 5: '#', 6: '$', 7: '%', 8: \"'\", 9: '(', 10: ')', 11: '*', 12: ',', 13: '-', 14: '.', 15: '/', 16: '0', 17: '1', 18: '2', 19: '3', 20: '4', 21: '5', 22: '6', 23: '7', 24: '8', 25: '9', 26: ':', 27: ';', 28: '?', 29: '[', 30: ']', 31: 'a', 32: 'b', 33: 'c', 34: 'd', 35: 'e', 36: 'f', 37: 'g', 38: 'h', 39: 'i', 40: 'j', 41: 'k', 42: 'l', 43: 'm', 44: 'n', 45: 'o', 46: 'p', 47: 'q', 48: 'r', 49: 's', 50: 't', 51: 'u', 52: 'v', 53: 'w', 54: 'x', 55: 'y', 56: 'z', 57: 'ç', 58: 'é', 59: 'ê', 60: 'ô', 61: '\\u200a', 62: '—', 63: '‘', 64: '’', 65: '“', 66: '”', 67: '…', 68: '\\ufeff'}\n"
          ]
        }
      ]
    },
    {
      "cell_type": "code",
      "source": [
        "alphabet_length = len(all_char_indices)\n",
        "print(alphabet_length)"
      ],
      "metadata": {
        "colab": {
          "base_uri": "https://localhost:8080/"
        },
        "id": "Fg0ngJAKLWu2",
        "outputId": "ce2dbf34-58b3-4d42-c342-a8ee315af8ab"
      },
      "execution_count": 69,
      "outputs": [
        {
          "output_type": "stream",
          "name": "stdout",
          "text": [
            "72\n"
          ]
        }
      ]
    },
    {
      "cell_type": "code",
      "source": [
        "sequence_length = 60  \n",
        "step    = 60 \n",
        "gg_sentences  = [] \n",
        "hf_sentences  = [] "
      ],
      "metadata": {
        "id": "FWtTJrTmLpK5"
      },
      "execution_count": 70,
      "outputs": []
    },
    {
      "cell_type": "code",
      "source": [
        "for i in range(0, len(great_gatsby)-sequence_length, step):\n",
        "    gg_sentences.append(great_gatsby[i:i+sequence_length])\n",
        "\n",
        "for i in range(0, len(huck_finn)-sequence_length, step):\n",
        "    hf_sentences.append(huck_finn[i:i+sequence_length])"
      ],
      "metadata": {
        "id": "iW2jlDqOMlpc"
      },
      "execution_count": 71,
      "outputs": []
    },
    {
      "cell_type": "code",
      "source": [
        "print(\"total num sentences:\", (len(hf_sentences)+len(gg_sentences)))"
      ],
      "metadata": {
        "colab": {
          "base_uri": "https://localhost:8080/"
        },
        "id": "w3Q6LDPEOcx5",
        "outputId": "fcbfff95-c692-4f05-a254-2ce64e25ff9c"
      },
      "execution_count": 72,
      "outputs": [
        {
          "output_type": "stream",
          "name": "stdout",
          "text": [
            "total num sentences: 14667\n"
          ]
        }
      ]
    },
    {
      "cell_type": "code",
      "source": [
        "X = np.zeros((len(hf_sentences)+len(gg_sentences), sequence_length, alphabet_length), dtype =float)\n",
        "y = np.zeros((len(hf_sentences)+len(gg_sentences),2), dtype=float)"
      ],
      "metadata": {
        "id": "zhDusfvrNr11"
      },
      "execution_count": 73,
      "outputs": []
    },
    {
      "cell_type": "code",
      "source": [
        "for i, sentence in enumerate(gg_sentences):\n",
        "    for t, char in enumerate(sentence): \n",
        "        X[i,t,all_char_indices[char]] = 1\n",
        "    y[i][0] = 1\n",
        "\n",
        "for i, sentence in enumerate(hf_sentences):\n",
        "    for t, char in enumerate(sentence): \n",
        "        X[len(gg_sentences)+i,t,all_char_indices[char]] = 1\n",
        "    y[len(gg_sentences)+i][1] = 1\n",
        "\n",
        "print (\"Shape of the input data:\", X.shape)\n",
        "print (\"Shape of the target data:\", y.shape)"
      ],
      "metadata": {
        "colab": {
          "base_uri": "https://localhost:8080/"
        },
        "id": "kLTCoZreNn9r",
        "outputId": "3007c3d2-2a92-46e1-e057-cb0bffb9db4e"
      },
      "execution_count": 74,
      "outputs": [
        {
          "output_type": "stream",
          "name": "stdout",
          "text": [
            "Shape of the input data: (14667, 60, 72)\n",
            "Shape of the target data: (14667, 2)\n"
          ]
        }
      ]
    },
    {
      "cell_type": "markdown",
      "metadata": {
        "id": "lL1Mc8ibHnep"
      },
      "source": [
        "## Data splitting\n",
        "Split the data into train, validate and test sets. Make "
      ]
    },
    {
      "cell_type": "code",
      "metadata": {
        "id": "ELyG9XFUHrkB"
      },
      "source": [
        "# 80% train, 10% validate, 10% test\n",
        "\n",
        "X_train, X_rem, y_train, y_rem = train_test_split(X, y, train_size=0.8, random_state=47)\n",
        "test_size = 0.5\n",
        "X_valid, X_test, y_valid, y_test = train_test_split(X_rem,y_rem, test_size=0.5)"
      ],
      "execution_count": 75,
      "outputs": []
    },
    {
      "cell_type": "markdown",
      "metadata": {
        "id": "hA8U9tr7HrNQ"
      },
      "source": [
        "## Model definition\n",
        "Define a 1D CNN or an LSTM for the task. Compile the model with the correct loss function."
      ]
    },
    {
      "cell_type": "code",
      "metadata": {
        "id": "BT1V1s4kHuUe"
      },
      "source": [
        "model = Sequential()\n",
        "model.add(LSTM(64, input_shape=(X.shape[-2], X.shape[-1]), dropout=0.3))\n",
        "model.add(Dense(y_train.shape[1]))\n",
        "model.add(Activation('sigmoid'))"
      ],
      "execution_count": 79,
      "outputs": []
    },
    {
      "cell_type": "code",
      "source": [
        "model.summary()"
      ],
      "metadata": {
        "colab": {
          "base_uri": "https://localhost:8080/"
        },
        "id": "XQKOBC6jRVph",
        "outputId": "759093b1-bd9d-4cd8-e86d-9899f18543d3"
      },
      "execution_count": 80,
      "outputs": [
        {
          "output_type": "stream",
          "name": "stdout",
          "text": [
            "Model: \"sequential_8\"\n",
            "_________________________________________________________________\n",
            " Layer (type)                Output Shape              Param #   \n",
            "=================================================================\n",
            " lstm_8 (LSTM)               (None, 64)                35072     \n",
            "                                                                 \n",
            " dense_8 (Dense)             (None, 2)                 130       \n",
            "                                                                 \n",
            " activation_5 (Activation)   (None, 2)                 0         \n",
            "                                                                 \n",
            "=================================================================\n",
            "Total params: 35,202\n",
            "Trainable params: 35,202\n",
            "Non-trainable params: 0\n",
            "_________________________________________________________________\n"
          ]
        }
      ]
    },
    {
      "cell_type": "code",
      "source": [
        "optimizer = RMSprop(learning_rate=0.01)\n",
        "model.compile(loss='binary_crossentropy', optimizer=optimizer, metrics=['accuracy'])"
      ],
      "metadata": {
        "id": "xX17K9yuRK42"
      },
      "execution_count": 81,
      "outputs": []
    },
    {
      "cell_type": "markdown",
      "metadata": {
        "id": "hWFb-nAMHuAI"
      },
      "source": [
        "## Model training\n",
        "Train the model and apply early stopping."
      ]
    },
    {
      "cell_type": "code",
      "source": [
        "es = EarlyStopping(patience=5, restore_best_weights=True, monitor=\"val_loss\")"
      ],
      "metadata": {
        "id": "QWYiizkfRrqH"
      },
      "execution_count": 82,
      "outputs": []
    },
    {
      "cell_type": "code",
      "metadata": {
        "id": "dvgKjqp3Hwkp",
        "colab": {
          "base_uri": "https://localhost:8080/"
        },
        "outputId": "028db61e-788e-4675-f079-a181e5bba074"
      },
      "source": [
        "model.fit(X_train, y_train, \n",
        "          epochs=100, batch_size=32, \n",
        "          validation_data=(X_valid,y_valid),\n",
        "          callbacks=[es],\n",
        "          verbose=2)"
      ],
      "execution_count": 83,
      "outputs": [
        {
          "output_type": "stream",
          "name": "stdout",
          "text": [
            "Epoch 1/100\n",
            "367/367 - 17s - loss: 0.6332 - accuracy: 0.6678 - val_loss: 0.6248 - val_accuracy: 0.6817 - 17s/epoch - 45ms/step\n",
            "Epoch 2/100\n",
            "367/367 - 14s - loss: 0.6269 - accuracy: 0.6699 - val_loss: 0.6060 - val_accuracy: 0.6714 - 14s/epoch - 37ms/step\n",
            "Epoch 3/100\n",
            "367/367 - 14s - loss: 0.5972 - accuracy: 0.6747 - val_loss: 0.6193 - val_accuracy: 0.6776 - 14s/epoch - 39ms/step\n",
            "Epoch 4/100\n",
            "367/367 - 14s - loss: 0.5922 - accuracy: 0.6757 - val_loss: 0.5690 - val_accuracy: 0.7021 - 14s/epoch - 39ms/step\n",
            "Epoch 5/100\n",
            "367/367 - 14s - loss: 0.5511 - accuracy: 0.6968 - val_loss: 0.4977 - val_accuracy: 0.7580 - 14s/epoch - 38ms/step\n",
            "Epoch 6/100\n",
            "367/367 - 13s - loss: 0.5257 - accuracy: 0.7294 - val_loss: 0.4800 - val_accuracy: 0.7457 - 13s/epoch - 36ms/step\n",
            "Epoch 7/100\n",
            "367/367 - 14s - loss: 0.4996 - accuracy: 0.7464 - val_loss: 0.4733 - val_accuracy: 0.7607 - 14s/epoch - 37ms/step\n",
            "Epoch 8/100\n",
            "367/367 - 14s - loss: 0.4823 - accuracy: 0.7574 - val_loss: 0.4376 - val_accuracy: 0.7771 - 14s/epoch - 38ms/step\n",
            "Epoch 9/100\n",
            "367/367 - 15s - loss: 0.4738 - accuracy: 0.7657 - val_loss: 0.4337 - val_accuracy: 0.8003 - 15s/epoch - 40ms/step\n",
            "Epoch 10/100\n",
            "367/367 - 14s - loss: 0.4587 - accuracy: 0.7729 - val_loss: 0.4041 - val_accuracy: 0.8023 - 14s/epoch - 37ms/step\n",
            "Epoch 11/100\n",
            "367/367 - 13s - loss: 0.4475 - accuracy: 0.7856 - val_loss: 0.3988 - val_accuracy: 0.8146 - 13s/epoch - 37ms/step\n",
            "Epoch 12/100\n",
            "367/367 - 14s - loss: 0.4389 - accuracy: 0.7879 - val_loss: 0.3757 - val_accuracy: 0.8194 - 14s/epoch - 38ms/step\n",
            "Epoch 13/100\n",
            "367/367 - 14s - loss: 0.4209 - accuracy: 0.7991 - val_loss: 0.3660 - val_accuracy: 0.8289 - 14s/epoch - 37ms/step\n",
            "Epoch 14/100\n",
            "367/367 - 14s - loss: 0.4181 - accuracy: 0.8008 - val_loss: 0.3642 - val_accuracy: 0.8289 - 14s/epoch - 38ms/step\n",
            "Epoch 15/100\n",
            "367/367 - 14s - loss: 0.4092 - accuracy: 0.8084 - val_loss: 0.3660 - val_accuracy: 0.8275 - 14s/epoch - 39ms/step\n",
            "Epoch 16/100\n",
            "367/367 - 13s - loss: 0.4045 - accuracy: 0.8086 - val_loss: 0.3521 - val_accuracy: 0.8350 - 13s/epoch - 37ms/step\n",
            "Epoch 17/100\n",
            "367/367 - 14s - loss: 0.3946 - accuracy: 0.8133 - val_loss: 0.3583 - val_accuracy: 0.8323 - 14s/epoch - 37ms/step\n",
            "Epoch 18/100\n",
            "367/367 - 13s - loss: 0.3893 - accuracy: 0.8168 - val_loss: 0.3534 - val_accuracy: 0.8330 - 13s/epoch - 36ms/step\n",
            "Epoch 19/100\n",
            "367/367 - 13s - loss: 0.3855 - accuracy: 0.8226 - val_loss: 0.3313 - val_accuracy: 0.8419 - 13s/epoch - 37ms/step\n",
            "Epoch 20/100\n",
            "367/367 - 13s - loss: 0.3739 - accuracy: 0.8265 - val_loss: 0.3333 - val_accuracy: 0.8412 - 13s/epoch - 37ms/step\n",
            "Epoch 21/100\n",
            "367/367 - 14s - loss: 0.3673 - accuracy: 0.8328 - val_loss: 0.3335 - val_accuracy: 0.8453 - 14s/epoch - 38ms/step\n",
            "Epoch 22/100\n",
            "367/367 - 15s - loss: 0.3661 - accuracy: 0.8306 - val_loss: 0.3259 - val_accuracy: 0.8459 - 15s/epoch - 40ms/step\n",
            "Epoch 23/100\n",
            "367/367 - 13s - loss: 0.3656 - accuracy: 0.8328 - val_loss: 0.3284 - val_accuracy: 0.8384 - 13s/epoch - 37ms/step\n",
            "Epoch 24/100\n",
            "367/367 - 14s - loss: 0.3564 - accuracy: 0.8388 - val_loss: 0.3292 - val_accuracy: 0.8446 - 14s/epoch - 37ms/step\n",
            "Epoch 25/100\n",
            "367/367 - 14s - loss: 0.3521 - accuracy: 0.8419 - val_loss: 0.3071 - val_accuracy: 0.8630 - 14s/epoch - 37ms/step\n",
            "Epoch 26/100\n",
            "367/367 - 14s - loss: 0.3511 - accuracy: 0.8400 - val_loss: 0.3357 - val_accuracy: 0.8480 - 14s/epoch - 38ms/step\n",
            "Epoch 27/100\n",
            "367/367 - 13s - loss: 0.3492 - accuracy: 0.8430 - val_loss: 0.2946 - val_accuracy: 0.8678 - 13s/epoch - 37ms/step\n",
            "Epoch 28/100\n",
            "367/367 - 14s - loss: 0.3406 - accuracy: 0.8433 - val_loss: 0.3059 - val_accuracy: 0.8609 - 14s/epoch - 38ms/step\n",
            "Epoch 29/100\n",
            "367/367 - 14s - loss: 0.3427 - accuracy: 0.8450 - val_loss: 0.3065 - val_accuracy: 0.8589 - 14s/epoch - 39ms/step\n",
            "Epoch 30/100\n",
            "367/367 - 14s - loss: 0.3383 - accuracy: 0.8514 - val_loss: 0.3225 - val_accuracy: 0.8466 - 14s/epoch - 38ms/step\n",
            "Epoch 31/100\n",
            "367/367 - 13s - loss: 0.3321 - accuracy: 0.8522 - val_loss: 0.3166 - val_accuracy: 0.8541 - 13s/epoch - 37ms/step\n",
            "Epoch 32/100\n",
            "367/367 - 14s - loss: 0.3372 - accuracy: 0.8480 - val_loss: 0.3101 - val_accuracy: 0.8589 - 14s/epoch - 37ms/step\n"
          ]
        },
        {
          "output_type": "execute_result",
          "data": {
            "text/plain": [
              "<keras.callbacks.History at 0x7f6b4df24a60>"
            ]
          },
          "metadata": {},
          "execution_count": 83
        }
      ]
    },
    {
      "cell_type": "markdown",
      "metadata": {
        "id": "0omw2XzSHwOo"
      },
      "source": [
        "## Evaluation on test data\n",
        "Evaluate the model on the test data in terms of loss and accuracy."
      ]
    },
    {
      "cell_type": "code",
      "metadata": {
        "id": "4bF3dQA1Hv_R",
        "colab": {
          "base_uri": "https://localhost:8080/"
        },
        "outputId": "c342d4da-f508-408e-8c66-68648cc395c0"
      },
      "source": [
        "loss, accuracy = model.evaluate(X_test, y_test)\n",
        "print(\"Test loss:\", loss)\n",
        "print(\"Test accuracy:\", accuracy)"
      ],
      "execution_count": 84,
      "outputs": [
        {
          "output_type": "stream",
          "name": "stdout",
          "text": [
            "46/46 [==============================] - 1s 16ms/step - loss: 0.2962 - accuracy: 0.8691\n",
            "Test loss: 0.29624953866004944\n",
            "Test accuracy: 0.8691206574440002\n"
          ]
        }
      ]
    },
    {
      "cell_type": "markdown",
      "metadata": {
        "id": "4Y73Q-h5Hz1r"
      },
      "source": [
        "## Confusion matrix\n",
        "Calculate and display the confusion matrix."
      ]
    },
    {
      "cell_type": "code",
      "metadata": {
        "id": "cW8zZi1uJm2B",
        "colab": {
          "base_uri": "https://localhost:8080/",
          "height": 473
        },
        "outputId": "da627910-c4ae-4cda-b37d-23ca33479455"
      },
      "source": [
        "from sklearn.metrics import confusion_matrix, classification_report\n",
        "import seaborn as sns\n",
        "\n",
        "preds = model.predict(X_test)\n",
        "conf=confusion_matrix(np.argmax(y_test,1),np.argmax(preds,1))\n",
        "sns.heatmap(conf, annot=True, fmt='d', vmax=1600, xticklabels=[\"Great Gatsby\", \"Huck Finn\"], yticklabels=[\"Great Gatsby\", \"Huck Finn\"])\n",
        "plt.xlabel(\"Predicted Label\")\n",
        "plt.ylabel(\"Actual Label\")\n",
        "plt.show()"
      ],
      "execution_count": 85,
      "outputs": [
        {
          "output_type": "stream",
          "name": "stdout",
          "text": [
            "46/46 [==============================] - 1s 13ms/step\n"
          ]
        },
        {
          "output_type": "display_data",
          "data": {
            "text/plain": [
              "<Figure size 640x480 with 2 Axes>"
            ],
            "image/png": "[encoded data removed]"
          },
          "metadata": {}
        }
      ]
    }
  ]
}